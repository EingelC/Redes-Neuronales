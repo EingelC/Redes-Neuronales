{
 "cells": [
  {
   "cell_type": "code",
   "execution_count": null,
   "metadata": {},
   "outputs": [],
   "source": [
    "import string\n",
    "import numpy as np\n",
    "Molecula = [\"CC(=O)OC(CC(=O)[O-])C[N+](C)(C)C\",\"AAAAAAA\"]"
   ]
  },
  {
   "cell_type": "code",
   "execution_count": null,
   "metadata": {},
   "outputs": [],
   "source": [
    "a = 0\n",
    "MoleculaAsciiArray = []\n",
    "for x in range(len(Molecula)):\n",
    "    b = 0\n",
    "    s = Molecula[x]\n",
    "    MolLen = len(Molecula[x])\n",
    "    Arreglo1 = []\n",
    "    for y in range(50):\n",
    "        if (b < MolLen):\n",
    "            Arreglo1.append(ord(s[b]))\n",
    "        else:\n",
    "            Arreglo1.append(0)\n",
    "        b += 1\n",
    "    MoleculaAsciiArray.append(Arreglo1)\n",
    "    a += 1\n",
    "print(MoleculaAsciiArray)"
   ]
  }
 ],
 "metadata": {
  "kernelspec": {
   "display_name": "Python 3",
   "language": "python",
   "name": "python3"
  },
  "language_info": {
   "codemirror_mode": {
    "name": "ipython",
    "version": 3
   },
   "file_extension": ".py",
   "mimetype": "text/x-python",
   "name": "python",
   "nbconvert_exporter": "python",
   "pygments_lexer": "ipython3",
   "version": "3.10.10"
  },
  "orig_nbformat": 4,
  "vscode": {
   "interpreter": {
    "hash": "52634da84371cba311ea128a5ea7cdc41ff074b781779e754b270ff9f8153cee"
   }
  }
 },
 "nbformat": 4,
 "nbformat_minor": 2
}
