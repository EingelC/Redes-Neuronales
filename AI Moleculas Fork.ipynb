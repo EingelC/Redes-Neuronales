{
 "cells": [
  {
   "cell_type": "code",
   "execution_count": 1,
   "metadata": {},
   "outputs": [],
   "source": [
    "import tensorflow as tf\n",
    "import keras\n",
    "import numpy as np\n",
    "import pandas as pd\n",
    "from pandas import *\n",
    "from PIL import Image as im\n",
    "import matplotlib.image"
   ]
  },
  {
   "cell_type": "code",
   "execution_count": 2,
   "metadata": {},
   "outputs": [],
   "source": [
    "#Leemos los datos de entrenamiento\n",
    "DataTrain = read_csv(\"Smiles_Train.csv\")\n",
    "SmilesTrain = DataTrain['SMILES'].tolist()\n",
    "LogPStringTrain = DataTrain['logP'].tolist()\n",
    "\n",
    "#Leemos los datos de prueba\n",
    "DataTest = read_csv(\"Smiles_Test.csv\")\n",
    "SmilesTest = DataTest['SMILES_Test'].tolist()\n",
    "LogPStringTest = DataTest['LogP_Test'].tolist()\n",
    "\n",
    "#Se convierte en arreglo numerico\n",
    "LogPTrain = np.array(LogPStringTrain)\n",
    "LogPTest = np.array(LogPStringTest)"
   ]
  },
  {
   "cell_type": "code",
   "execution_count": 6,
   "metadata": {},
   "outputs": [
    {
     "name": "stdout",
     "output_type": "stream",
     "text": [
      "35.89927172017643 37.885858585858585\n",
      "1 336 1 1415\n"
     ]
    }
   ],
   "source": [
    "PromTrain, PromTest = 0, 0\n",
    "SmilesTrainLen, SmilesTestLen = [], []\n",
    "for x in range(len(SmilesTrain)):\n",
    "    PromTrain = PromTrain + len(SmilesTrain[x])\n",
    "    SmilesTrainLen.append(len(SmilesTrain[x]))\n",
    "\n",
    "for y in range(len(SmilesTest)):\n",
    "    PromTest = PromTest + len(SmilesTest[y])\n",
    "    SmilesTestLen.append(len(SmilesTest[y]))\n",
    "\n",
    "PromTrain = PromTrain / len(SmilesTrain)\n",
    "PromTest = PromTest / len(SmilesTest)\n",
    "\n",
    "print(PromTrain, PromTest)\n",
    "print(min(SmilesTrainLen), max(SmilesTrainLen), min(SmilesTestLen), max(SmilesTestLen))"
   ]
  }
 ],
 "metadata": {
  "kernelspec": {
   "display_name": "Python 3",
   "language": "python",
   "name": "python3"
  },
  "language_info": {
   "codemirror_mode": {
    "name": "ipython",
    "version": 3
   },
   "file_extension": ".py",
   "mimetype": "text/x-python",
   "name": "python",
   "nbconvert_exporter": "python",
   "pygments_lexer": "ipython3",
   "version": "3.10.11"
  },
  "orig_nbformat": 4
 },
 "nbformat": 4,
 "nbformat_minor": 2
}
