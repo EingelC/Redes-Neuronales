{
 "cells": [
  {
   "cell_type": "code",
   "execution_count": 1,
   "metadata": {},
   "outputs": [],
   "source": [
    "import tensorflow as tf\n",
    "import keras\n",
    "import numpy as np\n",
    "import pandas as pd\n",
    "from pandas import *\n",
    "from PIL import Image as im\n",
    "import matplotlib.image"
   ]
  },
  {
   "cell_type": "code",
   "execution_count": 2,
   "metadata": {},
   "outputs": [],
   "source": [
    "#Leemos los datos de entrenamiento\n",
    "DataTrain = read_csv(\"Smiles_Train.csv\")\n",
    "SmilesTrain = DataTrain['SMILES'].tolist()\n",
    "LogPStringTrain = DataTrain['logP'].tolist()\n",
    "\n",
    "#Leemos los datos de prueba\n",
    "DataTest = read_csv(\"Smiles_Test.csv\")\n",
    "SmilesTest = DataTest['SMILES_Test'].tolist()\n",
    "LogPStringTest = DataTest['LogP_Test'].tolist()\n",
    "\n",
    "#Se convierte en arreglo numerico\n",
    "LogPTrain = np.array(LogPStringTrain)\n",
    "LogPTest = np.array(LogPStringTest)"
   ]
  },
  {
   "cell_type": "code",
   "execution_count": 3,
   "metadata": {},
   "outputs": [
    {
     "name": "stdout",
     "output_type": "stream",
     "text": [
      "35.89927172017643 37.885858585858585\n",
      "1 336 1 1415\n"
     ]
    }
   ],
   "source": [
    "PromTrain, PromTest = 0, 0\n",
    "SmilesTrainLen, SmilesTestLen = [], []\n",
    "for x in range(len(SmilesTrain)):\n",
    "    PromTrain = PromTrain + len(SmilesTrain[x])\n",
    "    SmilesTrainLen.append(len(SmilesTrain[x]))\n",
    "\n",
    "for y in range(len(SmilesTest)):\n",
    "    PromTest = PromTest + len(SmilesTest[y])\n",
    "    SmilesTestLen.append(len(SmilesTest[y]))\n",
    "\n",
    "PromTrain = PromTrain / len(SmilesTrain)\n",
    "PromTest = PromTest / len(SmilesTest)\n",
    "\n",
    "print(PromTrain, PromTest)\n",
    "print(min(SmilesTrainLen), max(SmilesTrainLen), min(SmilesTestLen), max(SmilesTestLen))"
   ]
  },
  {
   "cell_type": "code",
   "execution_count": 97,
   "metadata": {},
   "outputs": [],
   "source": [
    "MoleculaAsciiTrain, NewLogPTrain = [], []\n",
    "for x in range(len(SmilesTrain)):\n",
    "    b = 0\n",
    "    s = SmilesTrain[x]\n",
    "    MolLen = len(SmilesTrain[x])\n",
    "    Arreglo1 = []\n",
    "    if (MolLen < 64):\n",
    "        for y in range(64):\n",
    "            if (b < MolLen):\n",
    "                Arreglo1.append(ord(s[b]))\n",
    "            else:\n",
    "                Arreglo1.append(0)\n",
    "            b += 1\n",
    "        MoleculaAsciiTrain.append(Arreglo1)\n",
    "        NewLogPTrain.append(LogPTrain[x])"
   ]
  },
  {
   "cell_type": "code",
   "execution_count": 5,
   "metadata": {},
   "outputs": [],
   "source": [
    "MoleculaAsciiTest, NewLogPTest = [], []\n",
    "for x in range(len(SmilesTest)):\n",
    "    b = 0\n",
    "    s = SmilesTest[x]\n",
    "    MolLen = len(SmilesTest[x])\n",
    "    Arreglo2 = []\n",
    "    if (MolLen < 36):\n",
    "        for y in range(36):\n",
    "            if (b < MolLen):\n",
    "                Arreglo2.append(ord(s[b]))\n",
    "            else:\n",
    "                Arreglo2.append(0)\n",
    "            b += 1\n",
    "        MoleculaAsciiTest.append(Arreglo2)\n",
    "        NewLogPTest.append(LogPTest[x])"
   ]
  },
  {
   "cell_type": "code",
   "execution_count": 98,
   "metadata": {},
   "outputs": [],
   "source": [
    "SmilesTrainImgR = []\n",
    "i=15\n",
    "for y in range(len(MoleculaAsciiTrain)):\n",
    "    SmilesTrainImg = []\n",
    "    SmilesTrainImg = MoleculaAsciiTrain[y]\n",
    "    SmilesTrainImg = np.array(SmilesTrainImg)\n",
    "    SmilesTrainImg = np.reshape(SmilesTrainImg, (8,8))\n",
    "    SmilesTrainImgR.append(SmilesTrainImg)\n",
    "matplotlib.image.imsave('SmilesTrainImages/Train'+str(i)+'.png',SmilesTrainImgR[i])"
   ]
  },
  {
   "cell_type": "code",
   "execution_count": 26,
   "metadata": {},
   "outputs": [],
   "source": [
    "SmilesTestImgR = []\n",
    "for y in range(len(MoleculaAsciiTest)):\n",
    "    SmilesTestImg = []\n",
    "    SmilesTestImg = MoleculaAsciiTest[y]\n",
    "    SmilesTestImg = np.array(SmilesTestImg)\n",
    "    SmilesTestImg = np.reshape(SmilesTestImg, (6,6))\n",
    "    SmilesTestImgR.append(SmilesTestImg)\n",
    "matplotlib.image.imsave('SmilesTestImages/Test'+str(i)+'.png',SmilesTestImgR[i])"
   ]
  },
  {
   "cell_type": "code",
   "execution_count": 99,
   "metadata": {},
   "outputs": [],
   "source": [
    "SmilesTestImgR = np.asarray(SmilesTestImgR)\n",
    "SmilesTrainImgR = np.asarray(SmilesTrainImgR)\n",
    "NewLogPTrain = np.asarray(NewLogPTrain)\n",
    "NewLogPTest = np.asarray(NewLogPTest)\n",
    "SmilesTrainImgR = tf.convert_to_tensor(SmilesTrainImgR)\n",
    "SmilesTestImgR = tf.convert_to_tensor(SmilesTestImgR)\n",
    "NewLogPTrain = NewLogPTrain.reshape(-1,1)\n",
    "NewLogPTest = NewLogPTest.reshape(-1,1)"
   ]
  },
  {
   "cell_type": "code",
   "execution_count": 100,
   "metadata": {},
   "outputs": [
    {
     "name": "stdout",
     "output_type": "stream",
     "text": [
      "(17568, 8, 8)\n",
      "(1180, 6, 6)\n",
      "(17568, 1)\n",
      "(1180, 1)\n"
     ]
    }
   ],
   "source": [
    "print(SmilesTrainImgR.shape)\n",
    "print(SmilesTestImgR.shape)\n",
    "print(NewLogPTrain.shape)\n",
    "print(NewLogPTest.shape)"
   ]
  },
  {
   "cell_type": "code",
   "execution_count": 101,
   "metadata": {},
   "outputs": [],
   "source": [
    "normalizador = tf.keras.layers.Normalization(axis=-1)\n",
    "normalizador.adapt(SmilesTrainImgR)"
   ]
  },
  {
   "cell_type": "code",
   "execution_count": 102,
   "metadata": {},
   "outputs": [],
   "source": [
    "modelo = tf.keras.Sequential([\n",
    "    #tf.keras.layers.Flatten(input_shape=[784]),\n",
    "    tf.keras.layers.Conv2D(32, (1,1), input_shape=(8,8,1),activation=tf.nn.relu),\n",
    "    tf.keras.layers.MaxPooling2D(2,2),\n",
    "\n",
    "    tf.keras.layers.Conv2D(64, (3,3), activation=tf.nn.relu),\n",
    "    tf.keras.layers.MaxPooling2D(2,2),\n",
    "\n",
    "    tf.keras.layers.Flatten(),\n",
    "    tf.keras.layers.Dropout(0.5),\n",
    "\n",
    "    tf.keras.layers.Dense(units=128, activation=tf.nn.relu),\n",
    "    tf.keras.layers.Dense(units=128, activation=tf.nn.relu),\n",
    "    tf.keras.layers.Dense(units=1)\n",
    "])\n",
    "modelo.compile(\n",
    "    optimizer='adam',\n",
    "    loss='mean_squared_error',\n",
    "    #loss = tf.keras.losses.SparseCategoricalCrossentropy(),\n",
    "    #loss = 'binary_crossentropy',\n",
    "    metrics=['accuracy']\n",
    ")"
   ]
  },
  {
   "cell_type": "code",
   "execution_count": 104,
   "metadata": {},
   "outputs": [
    {
     "name": "stdout",
     "output_type": "stream",
     "text": [
      "Iniciando Entrenamiento...\n",
      "Epoch 1/10\n",
      "549/549 [==============================] - 1s 3ms/step - loss: 6.2009 - accuracy: 0.0159\n",
      "Epoch 2/10\n",
      "549/549 [==============================] - 2s 3ms/step - loss: 6.0568 - accuracy: 0.0158\n",
      "Epoch 3/10\n",
      "549/549 [==============================] - 2s 3ms/step - loss: 6.0056 - accuracy: 0.0159\n",
      "Epoch 4/10\n",
      "549/549 [==============================] - 2s 3ms/step - loss: 5.9938 - accuracy: 0.0159\n",
      "Epoch 5/10\n",
      "549/549 [==============================] - 2s 3ms/step - loss: 5.9823 - accuracy: 0.0159\n",
      "Epoch 6/10\n",
      "549/549 [==============================] - 2s 3ms/step - loss: 5.9943 - accuracy: 0.0159\n",
      "Epoch 7/10\n",
      "549/549 [==============================] - 2s 3ms/step - loss: 5.9963 - accuracy: 0.0159\n",
      "Epoch 8/10\n",
      "549/549 [==============================] - 1s 3ms/step - loss: 6.0102 - accuracy: 0.0159\n",
      "Epoch 9/10\n",
      "549/549 [==============================] - 2s 3ms/step - loss: 6.0150 - accuracy: 0.0159\n",
      "Epoch 10/10\n",
      "549/549 [==============================] - 2s 3ms/step - loss: 6.0046 - accuracy: 0.0159\n",
      "Entrenamiento finailzado exitosamente\n"
     ]
    }
   ],
   "source": [
    "print(\"Iniciando Entrenamiento...\")\n",
    "modelo.fit(\n",
    "    SmilesTrainImgR, NewLogPTrain, epochs = 10,\n",
    "    verbose = 1\n",
    ")\n",
    "print(\"Entrenamiento finailzado exitosamente\")"
   ]
  }
 ],
 "metadata": {
  "kernelspec": {
   "display_name": "Python 3",
   "language": "python",
   "name": "python3"
  },
  "language_info": {
   "codemirror_mode": {
    "name": "ipython",
    "version": 3
   },
   "file_extension": ".py",
   "mimetype": "text/x-python",
   "name": "python",
   "nbconvert_exporter": "python",
   "pygments_lexer": "ipython3",
   "version": "3.10.11"
  },
  "orig_nbformat": 4
 },
 "nbformat": 4,
 "nbformat_minor": 2
}
