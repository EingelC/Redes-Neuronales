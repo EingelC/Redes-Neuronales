{
 "cells": [
  {
   "cell_type": "code",
   "execution_count": null,
   "metadata": {},
   "outputs": [],
   "source": [
    "#Importamos todas las librerias necesarias y comprobamos si podremos usar la GPU\n",
    "import tensorflow as tf\n",
    "import keras\n",
    "import numpy as np\n",
    "import pandas as pd\n",
    "from pandas import *\n",
    "from PIL import Image as im\n",
    "import matplotlib.image\n",
    "print(\"GPU available: \", tf.config.list_physical_devices('GPU'))\n",
    "print(tf.__version__)"
   ]
  },
  {
   "cell_type": "code",
   "execution_count": null,
   "metadata": {},
   "outputs": [],
   "source": [
    "DataTest = read_csv(\"Smiles_Test.csv\")\n",
    "DataTrain = read_csv(\"Smiles_Train.csv\")\n",
    "SmilesTest = DataTest['SMILES_Test'].tolist()\n",
    "LogPStringTest = DataTest['LogP_Test'].tolist()\n",
    "SmilesTrain = DataTrain['SMILES'].tolist()\n",
    "LogPStringTrain = DataTrain['logP'].tolist()\n",
    "LogPTrain = np.array(LogPStringTrain)\n",
    "LogPTest = np.array(LogPStringTest)"
   ]
  },
  {
   "cell_type": "code",
   "execution_count": null,
   "metadata": {},
   "outputs": [],
   "source": [
    "a = 0\n",
    "MoleculaAsciiTest = []\n",
    "for x in range(len(SmilesTest)):\n",
    "    b = 0\n",
    "    s = SmilesTest[x]\n",
    "    MolLen = len(SmilesTest[x])\n",
    "    Arreglo1 = []\n",
    "    for y in range(529):\n",
    "        if (b < MolLen):\n",
    "            Arreglo1.append(ord(s[b]))\n",
    "        else:\n",
    "            Arreglo1.append(0)\n",
    "        b += 1\n",
    "    MoleculaAsciiTest.append(Arreglo1)\n",
    "    a += 1"
   ]
  },
  {
   "cell_type": "code",
   "execution_count": null,
   "metadata": {},
   "outputs": [],
   "source": [
    "a = 0\n",
    "MoleculaAsciiTrain = []\n",
    "for x in range(len(SmilesTrain)):\n",
    "    b = 0\n",
    "    s = SmilesTrain[x]\n",
    "    MolLen = len(SmilesTrain[x])\n",
    "    Arreglo1 = []\n",
    "    for y in range(529):\n",
    "        if (b < MolLen):\n",
    "            Arreglo1.append(ord(s[b]))\n",
    "        else:\n",
    "            Arreglo1.append(0)\n",
    "        b += 1\n",
    "    MoleculaAsciiTrain.append(Arreglo1)\n",
    "    a += 1"
   ]
  },
  {
   "cell_type": "code",
   "execution_count": null,
   "metadata": {},
   "outputs": [],
   "source": [
    "SmilesTrainImgR = []\n",
    "for y in range(len(SmilesTrain)):\n",
    "    SmilesTrainImg = []\n",
    "    SmilesTrainImg = MoleculaAsciiTrain[y]\n",
    "    SmilesTrainImg = np.array(SmilesTrainImg)\n",
    "    SmilesTrainImg = np.reshape(SmilesTrainImg, (23,23))\n",
    "    SmilesTrainImgR.append(SmilesTrainImg)\n",
    "    #matplotlib.image.imsave('SmilesTrainImages/Train'+i+'.png',SmilesTrainImg)"
   ]
  },
  {
   "cell_type": "code",
   "execution_count": null,
   "metadata": {},
   "outputs": [],
   "source": [
    "SmilesTestImgR = []\n",
    "for y in range(len(SmilesTest)):\n",
    "    SmilesTestImg = []\n",
    "    SmilesTestImg = MoleculaAsciiTest[y]\n",
    "    SmilesTestImg = np.array(SmilesTestImg)\n",
    "    SmilesTestImg = np.reshape(SmilesTestImg, (23,23))\n",
    "    SmilesTestImgR.append(SmilesTestImg)\n",
    "    #matplotlib.image.imsave('SmilesTestImages/Test'+i+'.png',SmilesTestImg)"
   ]
  },
  {
   "cell_type": "code",
   "execution_count": null,
   "metadata": {},
   "outputs": [],
   "source": [
    "MoleculaAsciiTrain = np.asarray(MoleculaAsciiTrain)\n",
    "MoleculaAsciiTest = np.asarray(MoleculaAsciiTest)\n",
    "SmilesTestImgR = np.asarray(SmilesTestImgR)\n",
    "SmilesTrainImgR = np.asarray(SmilesTrainImgR)\n",
    "LogPTrain = np.asarray(LogPTrain)\n",
    "LogPTest = np.asarray(LogPTest)\n",
    "MoleculeTensorTrain = tf.convert_to_tensor(MoleculaAsciiTrain)\n",
    "MoleculeTensorTest = tf.convert_to_tensor(MoleculaAsciiTest)\n",
    "SmilesTrainImgR = tf.convert_to_tensor(SmilesTrainImgR)\n",
    "SmilesTestImgR = tf.convert_to_tensor(SmilesTestImgR)"
   ]
  },
  {
   "cell_type": "code",
   "execution_count": null,
   "metadata": {},
   "outputs": [],
   "source": [
    "LogPTrain = LogPTrain.reshape(-1,1)\n",
    "LogPTest = LogPTest.reshape(-1,1)"
   ]
  },
  {
   "cell_type": "code",
   "execution_count": null,
   "metadata": {},
   "outputs": [],
   "source": [
    "print(SmilesTrainImgR.shape)\n",
    "print(SmilesTestImgR.shape)\n",
    "print(LogPTrain.shape)\n",
    "print(LogPTest.shape)"
   ]
  },
  {
   "cell_type": "code",
   "execution_count": null,
   "metadata": {},
   "outputs": [],
   "source": [
    "normalizador = tf.keras.layers.Normalization(axis=-1)\n",
    "normalizador.adapt(SmilesTrainImgR)"
   ]
  },
  {
   "cell_type": "code",
   "execution_count": null,
   "metadata": {},
   "outputs": [],
   "source": [
    "modelo = tf.keras.Sequential([\n",
    "    #tf.keras.layers.Flatten(input_shape=[784]),\n",
    "    tf.keras.layers.Conv2D(32, (3,3),input_shape=(23,23,1), activation=tf.nn.relu),\n",
    "    tf.keras.layers.MaxPooling2D(2,2),\n",
    "\n",
    "    tf.keras.layers.Conv2D(64, (3,3), activation=tf.nn.relu),\n",
    "    tf.keras.layers.MaxPooling2D(2,2),\n",
    "\n",
    "    tf.keras.layers.Flatten(),\n",
    "    tf.keras.layers.Dropout(0.5),\n",
    "\n",
    "    tf.keras.layers.Dense(units=128, activation=tf.nn.relu),\n",
    "    tf.keras.layers.Dense(units=128, activation=tf.nn.relu),\n",
    "    tf.keras.layers.Dense(units=1)\n",
    "])"
   ]
  },
  {
   "cell_type": "code",
   "execution_count": null,
   "metadata": {},
   "outputs": [],
   "source": [
    "modelo.compile(\n",
    "    optimizer='adam',\n",
    "    loss='mean_squared_error',\n",
    "    #loss = tf.keras.losses.SparseCategoricalCrossentropy(),\n",
    "    #loss = 'binary_crossentropy',\n",
    "    metrics=['accuracy']\n",
    ")"
   ]
  },
  {
   "cell_type": "code",
   "execution_count": null,
   "metadata": {},
   "outputs": [],
   "source": [
    "print(\"Iniciando Entrenamiento...\")\n",
    "modelo.fit(\n",
    "    SmilesTrainImgR, LogPTrain, epochs = 10,\n",
    "    verbose = 1\n",
    ")\n",
    "print(\"Entrenamiento finailzado exitosamente\")"
   ]
  },
  {
   "cell_type": "code",
   "execution_count": null,
   "metadata": {},
   "outputs": [],
   "source": [
    "test_lost, test_accuracy = modelo.evaluate(SmilesTestImgR)\n",
    "print(\"Resultado en las pruebas: \", test_accuracy)"
   ]
  },
  {
   "cell_type": "code",
   "execution_count": null,
   "metadata": {},
   "outputs": [],
   "source": [
    "print(\"Hagamos una prediccion\")\n",
    "resultado = modelo.predict([SmilesTrainImgR])\n",
    "print(\"El resultado es \" + str(resultado))"
   ]
  },
  {
   "cell_type": "code",
   "execution_count": null,
   "metadata": {},
   "outputs": [],
   "source": [
    "resultado = np.asarray(resultado)"
   ]
  },
  {
   "cell_type": "code",
   "execution_count": null,
   "metadata": {},
   "outputs": [],
   "source": [
    "archivo = open(\"Resultado2.dat\", \"a\")\n",
    "i = 0\n",
    "resultado1 = []\n",
    "resultado2 = []\n",
    "for x in range(100):\n",
    "    resultado1 = str(resultado[i])\n",
    "    resultado2 = str(LogPTrain[i])\n",
    "    resultado1 = resultado1.replace('[', '')\n",
    "    resultado1 = resultado1.replace(']','')\n",
    "    resultado2 = resultado2.replace('[', '')\n",
    "    resultado2 = resultado2.replace(']','')\n",
    "    archivo.write(str(resultado1)+ \";\" + str(resultado2) + \"\\n\")\n",
    "    i += 1\n",
    "\n",
    "archivo.close()"
   ]
  }
 ],
 "metadata": {
  "kernelspec": {
   "display_name": "Python 3",
   "language": "python",
   "name": "python3"
  },
  "language_info": {
   "codemirror_mode": {
    "name": "ipython",
    "version": 3
   },
   "file_extension": ".py",
   "mimetype": "text/x-python",
   "name": "python",
   "nbconvert_exporter": "python",
   "pygments_lexer": "ipython3",
   "version": "3.10.11"
  },
  "orig_nbformat": 4,
  "vscode": {
   "interpreter": {
    "hash": "52634da84371cba311ea128a5ea7cdc41ff074b781779e754b270ff9f8153cee"
   }
  }
 },
 "nbformat": 4,
 "nbformat_minor": 2
}
