{
 "cells": [
  {
   "cell_type": "code",
   "execution_count": 1,
   "metadata": {},
   "outputs": [
    {
     "name": "stdout",
     "output_type": "stream",
     "text": [
      "WARNING:tensorflow:From C:\\Users\\jmcon\\AppData\\Local\\Temp\\ipykernel_24704\\2703186826.py:9: is_gpu_available (from tensorflow.python.framework.test_util) is deprecated and will be removed in a future version.\n",
      "Instructions for updating:\n",
      "Use `tf.config.list_physical_devices('GPU')` instead.\n",
      "GPU available:  False\n",
      "2.12.0\n"
     ]
    }
   ],
   "source": [
    "#Importamos todas las librerias necesarias y comprobamos si podremos usar la GPU\n",
    "import tensorflow as tf\n",
    "import keras\n",
    "import numpy as np\n",
    "import pandas as pd\n",
    "from pandas import *\n",
    "from PIL import Image as im\n",
    "import matplotlib.image\n",
    "print(\"GPU available: \", tf.test.is_gpu_available())\n",
    "print(tf.__version__)"
   ]
  },
  {
   "cell_type": "code",
   "execution_count": 2,
   "metadata": {},
   "outputs": [],
   "source": [
    "DataTest = read_csv(\"Smiles_Test.csv\")\n",
    "DataTrain = read_csv(\"Smiles_Train.csv\")\n",
    "SmilesTest = DataTest['SMILES_Test'].tolist()\n",
    "LogPStringTest = DataTest['LogP_Test'].tolist()\n",
    "SmilesTrain = DataTrain['SMILES'].tolist()\n",
    "LogPStringTrain = DataTrain['logP'].tolist()\n",
    "LogPTrain = np.array(LogPStringTrain)\n",
    "LogPTest = np.array(LogPStringTest)\n",
    "SmilesTrainLen = []\n",
    "SmilesTestLen = []\n",
    "i = 0\n",
    "j = 0\n",
    "for x in SmilesTrain:\n",
    "    SmilesTrainLen.append(len(SmilesTrain[i]))\n",
    "    i += 1\n",
    "for y in SmilesTest:\n",
    "    SmilesTestLen.append(len(SmilesTest[j]))\n",
    "    j += 1"
   ]
  },
  {
   "cell_type": "code",
   "execution_count": 3,
   "metadata": {},
   "outputs": [],
   "source": [
    "a = 0\n",
    "MoleculaAsciiTest = []\n",
    "for x in range(len(SmilesTest)):\n",
    "    b = 0\n",
    "    s = SmilesTest[x]\n",
    "    MolLen = len(SmilesTest[x])\n",
    "    Arreglo1 = []\n",
    "    for y in range(784):\n",
    "        if (b < MolLen):\n",
    "            Arreglo1.append(ord(s[b]))\n",
    "        else:\n",
    "            Arreglo1.append(0)\n",
    "        b += 1\n",
    "    MoleculaAsciiTest.append(Arreglo1)\n",
    "    a += 1"
   ]
  },
  {
   "cell_type": "code",
   "execution_count": 4,
   "metadata": {},
   "outputs": [],
   "source": [
    "a = 0\n",
    "MoleculaAsciiTrain = []\n",
    "for x in range(len(SmilesTrain)):\n",
    "    b = 0\n",
    "    s = SmilesTrain[x]\n",
    "    MolLen = len(SmilesTrain[x])\n",
    "    Arreglo1 = []\n",
    "    for y in range(784):\n",
    "        if (b < MolLen):\n",
    "            Arreglo1.append(ord(s[b]))\n",
    "        else:\n",
    "            Arreglo1.append(0)\n",
    "        b += 1\n",
    "    MoleculaAsciiTrain.append(Arreglo1)\n",
    "    a += 1"
   ]
  },
  {
   "cell_type": "code",
   "execution_count": 5,
   "metadata": {},
   "outputs": [],
   "source": [
    "SmilesTrainImgR = []\n",
    "for y in range(len(SmilesTrain)):\n",
    "    SmilesTrainImg = []\n",
    "    SmilesTrainImg = MoleculaAsciiTrain[y]\n",
    "    SmilesTrainImg = np.array(SmilesTrainImg)\n",
    "    SmilesTrainImg = np.reshape(SmilesTrainImg, (28,28))\n",
    "    SmilesTrainImgR.append(SmilesTrainImg)\n",
    "    #matplotlib.image.imsave('SmilesTrainImages/Train'+i+'.png',SmilesTrainImg)"
   ]
  },
  {
   "cell_type": "code",
   "execution_count": 6,
   "metadata": {},
   "outputs": [],
   "source": [
    "SmilesTestImgR = []\n",
    "for y in range(len(SmilesTest)):\n",
    "    SmilesTestImg = []\n",
    "    SmilesTestImg = MoleculaAsciiTest[y]\n",
    "    SmilesTestImg = np.array(SmilesTestImg)\n",
    "    SmilesTestImg = np.reshape(SmilesTestImg, (28,28))\n",
    "    SmilesTestImgR.append(SmilesTestImg)\n",
    "    #matplotlib.image.imsave('SmilesTestImages/Test'+i+'.png',SmilesTestImg)"
   ]
  },
  {
   "cell_type": "code",
   "execution_count": 7,
   "metadata": {},
   "outputs": [],
   "source": [
    "MoleculaAsciiTrain = np.asarray(MoleculaAsciiTrain)\n",
    "MoleculaAsciiTest = np.asarray(MoleculaAsciiTest)\n",
    "SmilesTestImgR = np.asarray(SmilesTestImgR)\n",
    "SmilesTrainImgR = np.asarray(SmilesTrainImgR)\n",
    "LogPTrain = np.asarray(LogPTrain)\n",
    "LogPTest = np.asarray(LogPTest)\n",
    "MoleculeTensorTrain = tf.convert_to_tensor(MoleculaAsciiTrain)\n",
    "MoleculeTensorTest = tf.convert_to_tensor(MoleculaAsciiTest)\n",
    "SmilesTrainImgR = tf.convert_to_tensor(SmilesTrainImgR)\n",
    "SmilesTestImgR = tf.convert_to_tensor(SmilesTestImgR)"
   ]
  },
  {
   "cell_type": "code",
   "execution_count": 8,
   "metadata": {},
   "outputs": [],
   "source": [
    "LogPTrain = LogPTrain.reshape(-1,1)\n",
    "LogPTest = LogPTest.reshape(-1,1)"
   ]
  },
  {
   "cell_type": "code",
   "execution_count": 9,
   "metadata": {},
   "outputs": [
    {
     "name": "stdout",
     "output_type": "stream",
     "text": [
      "(19498, 28, 28)\n",
      "(1980, 28, 28)\n",
      "(19498, 1)\n",
      "(1980, 1)\n"
     ]
    }
   ],
   "source": [
    "print(SmilesTrainImgR.shape)\n",
    "print(SmilesTestImgR.shape)\n",
    "print(LogPTrain.shape)\n",
    "print(LogPTest.shape)"
   ]
  },
  {
   "cell_type": "code",
   "execution_count": 44,
   "metadata": {},
   "outputs": [],
   "source": [
    "modelo = tf.keras.Sequential([\n",
    "    #tf.keras.layers.Flatten(input_shape=[784]),\n",
    "    tf.keras.layers.Conv2D(32, (3,3),input_shape=(28,28,1), activation=tf.nn.relu),\n",
    "    tf.keras.layers.MaxPooling2D(2,2),\n",
    "\n",
    "    tf.keras.layers.Conv2D(64, (3,3), activation=tf.nn.relu),\n",
    "    tf.keras.layers.MaxPooling2D(2,2),\n",
    "\n",
    "    tf.keras.layers.Flatten(),\n",
    "    tf.keras.layers.Dropout(0.5),\n",
    "\n",
    "    tf.keras.layers.Dense(units=128, activation=tf.nn.relu),\n",
    "    tf.keras.layers.Dense(units=128, activation=tf.nn.relu),\n",
    "    tf.keras.layers.Dense(units=1)\n",
    "])"
   ]
  },
  {
   "cell_type": "code",
   "execution_count": 50,
   "metadata": {},
   "outputs": [],
   "source": [
    "modelo.compile(\n",
    "    optimizer='adam',\n",
    "    loss='mean_squared_error',\n",
    "    #loss = tf.keras.losses.SparseCategoricalCrossentropy(),\n",
    "    #loss = 'binary_crossentropy',\n",
    "    metrics=['accuracy']\n",
    ")"
   ]
  },
  {
   "cell_type": "code",
   "execution_count": 51,
   "metadata": {},
   "outputs": [
    {
     "name": "stdout",
     "output_type": "stream",
     "text": [
      "Iniciando Entrenamiento...\n",
      "Epoch 1/10\n",
      "610/610 [==============================] - 9s 14ms/step - loss: 11.0779 - accuracy: 0.0147\n",
      "Epoch 2/10\n",
      "610/610 [==============================] - 9s 14ms/step - loss: 4.5066 - accuracy: 0.0156\n",
      "Epoch 3/10\n",
      "610/610 [==============================] - 8s 14ms/step - loss: 4.1341 - accuracy: 0.0149\n",
      "Epoch 4/10\n",
      "610/610 [==============================] - 8s 13ms/step - loss: 4.0518 - accuracy: 0.0154\n",
      "Epoch 5/10\n",
      "610/610 [==============================] - 8s 13ms/step - loss: 3.9888 - accuracy: 0.0157\n",
      "Epoch 6/10\n",
      "610/610 [==============================] - 8s 13ms/step - loss: 3.7996 - accuracy: 0.0160\n",
      "Epoch 7/10\n",
      "610/610 [==============================] - 8s 13ms/step - loss: 3.8931 - accuracy: 0.0160\n",
      "Epoch 8/10\n",
      "610/610 [==============================] - 8s 13ms/step - loss: 3.7918 - accuracy: 0.0160\n",
      "Epoch 9/10\n",
      "610/610 [==============================] - 8s 13ms/step - loss: 3.6446 - accuracy: 0.0156\n",
      "Epoch 10/10\n",
      "610/610 [==============================] - 8s 13ms/step - loss: 3.6268 - accuracy: 0.0155\n",
      "Entrenamiento finailzado exitosamente\n"
     ]
    }
   ],
   "source": [
    "print(\"Iniciando Entrenamiento...\")\n",
    "modelo.fit(\n",
    "    SmilesTrainImgR, LogPTrain, epochs = 10,\n",
    "    verbose = 1\n",
    ")\n",
    "print(\"Entrenamiento finailzado exitosamente\")"
   ]
  },
  {
   "cell_type": "code",
   "execution_count": 52,
   "metadata": {},
   "outputs": [
    {
     "name": "stdout",
     "output_type": "stream",
     "text": [
      "62/62 [==============================] - 0s 1ms/step - loss: 0.0000e+00 - accuracy: 0.0000e+00\n",
      "Resultado en las pruebas:  0.0\n"
     ]
    }
   ],
   "source": [
    "test_lost, test_accuracy = modelo.evaluate(SmilesTestImgR)\n",
    "print(\"Resultado en las pruebas: \", test_accuracy)"
   ]
  },
  {
   "cell_type": "code",
   "execution_count": 53,
   "metadata": {},
   "outputs": [
    {
     "name": "stdout",
     "output_type": "stream",
     "text": [
      "Hagamos una prediccion\n",
      "610/610 [==============================] - 3s 4ms/step\n",
      "El resultado es [[-0.91509277]\n",
      " [-2.6634557 ]\n",
      " [-1.6911293 ]\n",
      " ...\n",
      " [-0.8244533 ]\n",
      " [ 2.7144778 ]\n",
      " [ 0.03270972]]\n"
     ]
    }
   ],
   "source": [
    "print(\"Hagamos una prediccion\")\n",
    "resultado = modelo.predict([SmilesTrainImgR])\n",
    "print(\"El resultado es \" + str(resultado))"
   ]
  },
  {
   "cell_type": "code",
   "execution_count": 54,
   "metadata": {},
   "outputs": [],
   "source": [
    "resultado = np.asarray(resultado)"
   ]
  },
  {
   "cell_type": "code",
   "execution_count": 55,
   "metadata": {},
   "outputs": [],
   "source": [
    "archivo = open(\"Resultado2.dat\", \"a\")\n",
    "i = 0\n",
    "resultado1 = []\n",
    "resultado2 = []\n",
    "for x in range(100):\n",
    "    resultado1 = str(resultado[i])\n",
    "    resultado2 = str(LogPTrain[i])\n",
    "    resultado1 = resultado1.replace('[', '')\n",
    "    resultado1 = resultado1.replace(']','')\n",
    "    resultado2 = resultado2.replace('[', '')\n",
    "    resultado2 = resultado2.replace(']','')\n",
    "    archivo.write(str(resultado1)+ \";\" + str(resultado2) + \"\\n\")\n",
    "    i += 1\n",
    "\n",
    "archivo.close()"
   ]
  }
 ],
 "metadata": {
  "kernelspec": {
   "display_name": "Python 3",
   "language": "python",
   "name": "python3"
  },
  "language_info": {
   "codemirror_mode": {
    "name": "ipython",
    "version": 3
   },
   "file_extension": ".py",
   "mimetype": "text/x-python",
   "name": "python",
   "nbconvert_exporter": "python",
   "pygments_lexer": "ipython3",
   "version": "3.10.11"
  },
  "orig_nbformat": 4,
  "vscode": {
   "interpreter": {
    "hash": "52634da84371cba311ea128a5ea7cdc41ff074b781779e754b270ff9f8153cee"
   }
  }
 },
 "nbformat": 4,
 "nbformat_minor": 2
}
