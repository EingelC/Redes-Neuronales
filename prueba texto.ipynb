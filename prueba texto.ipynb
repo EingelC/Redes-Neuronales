{
 "cells": [
  {
   "cell_type": "code",
   "execution_count": 7,
   "metadata": {},
   "outputs": [],
   "source": [
    "file = open(\"Ejemplo.csv\", \"r\")\n",
    "file2 = open (\"nuevo.csv\", \"a\")\n",
    "a = \"\"\n",
    "for i in range(80):\n",
    "    a = file.readline()\n",
    "    if (i%2 == 0):\n",
    "        file2.write(a)\n",
    "file.close()\n",
    "file2.close()"
   ]
  }
 ],
 "metadata": {
  "kernelspec": {
   "display_name": "Python 3",
   "language": "python",
   "name": "python3"
  },
  "language_info": {
   "codemirror_mode": {
    "name": "ipython",
    "version": 3
   },
   "file_extension": ".py",
   "mimetype": "text/x-python",
   "name": "python",
   "nbconvert_exporter": "python",
   "pygments_lexer": "ipython3",
   "version": "3.10.10"
  },
  "orig_nbformat": 4
 },
 "nbformat": 4,
 "nbformat_minor": 2
}
